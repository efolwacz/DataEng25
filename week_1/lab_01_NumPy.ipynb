{
  "cells": [
    {
      "cell_type": "markdown",
      "metadata": {
        "id": "V0JP3_dqinA_"
      },
      "source": [
        "# Recalling Numpy Array Slicing and Indexing"
      ]
    },
    {
      "cell_type": "code",
      "execution_count": 1,
      "metadata": {
        "id": "dtz4qOBkinBC"
      },
      "outputs": [],
      "source": [
        "import numpy as np"
      ]
    },
    {
      "cell_type": "code",
      "execution_count": 2,
      "metadata": {
        "id": "ObmRgmPCinBD"
      },
      "outputs": [],
      "source": [
        "#create array\n",
        "x = np.asarray(range(1,26), np.int8).reshape(5,5)"
      ]
    },
    {
      "cell_type": "code",
      "execution_count": 3,
      "metadata": {
        "id": "erV8TBN8inBE",
        "outputId": "1fbad09c-64e6-4456-fb03-92c31232c414",
        "colab": {
          "base_uri": "https://localhost:8080/"
        }
      },
      "outputs": [
        {
          "output_type": "execute_result",
          "data": {
            "text/plain": [
              "array([[ 1,  2,  3,  4,  5],\n",
              "       [ 6,  7,  8,  9, 10],\n",
              "       [11, 12, 13, 14, 15],\n",
              "       [16, 17, 18, 19, 20],\n",
              "       [21, 22, 23, 24, 25]], dtype=int8)"
            ]
          },
          "metadata": {},
          "execution_count": 3
        }
      ],
      "source": [
        "x"
      ]
    },
    {
      "cell_type": "markdown",
      "metadata": {
        "id": "uztpdBo3inBE"
      },
      "source": [
        "## Slice first 3 elements\n",
        "\n",
        "<img src=\"https://github.com/efolwacz/DataEng25/blob/main/week_1/IMG/np01.png?raw=1\">"
      ]
    },
    {
      "cell_type": "code",
      "execution_count": 7,
      "metadata": {
        "id": "S4ECYU9kinBF",
        "outputId": "e074fa19-ee9c-4ac6-ce34-3a5a8bdbb5de",
        "colab": {
          "base_uri": "https://localhost:8080/"
        }
      },
      "outputs": [
        {
          "output_type": "execute_result",
          "data": {
            "text/plain": [
              "array([1, 2, 3], dtype=int8)"
            ]
          },
          "metadata": {},
          "execution_count": 7
        }
      ],
      "source": [
        "x[0][0:3]\n"
      ]
    },
    {
      "cell_type": "markdown",
      "metadata": {
        "id": "av7fB4uLinBF"
      },
      "source": [
        "##  Slice first 8 elements\n",
        "\n",
        "<img src=\"https://github.com/efolwacz/DataEng25/blob/main/week_1/IMG/np02.png?raw=1\">"
      ]
    },
    {
      "cell_type": "code",
      "execution_count": 8,
      "metadata": {
        "id": "46S6TyR1inBG",
        "outputId": "6349498b-f1fe-418c-de84-47c3601e61f3",
        "colab": {
          "base_uri": "https://localhost:8080/",
          "height": 108
        }
      },
      "outputs": [
        {
          "output_type": "error",
          "ename": "SyntaxError",
          "evalue": "invalid syntax (<ipython-input-8-d39b14afbfd3>, line 1)",
          "traceback": [
            "\u001b[0;36m  File \u001b[0;32m\"<ipython-input-8-d39b14afbfd3>\"\u001b[0;36m, line \u001b[0;32m1\u001b[0m\n\u001b[0;31m    x[0;3 ,1;3]\u001b[0m\n\u001b[0m       ^\u001b[0m\n\u001b[0;31mSyntaxError\u001b[0m\u001b[0;31m:\u001b[0m invalid syntax\n"
          ]
        }
      ],
      "source": [
        "x[0:3 ,1:3]"
      ]
    },
    {
      "cell_type": "markdown",
      "metadata": {
        "id": "BzYEG0hyinBG"
      },
      "source": [
        "## Skip every other element\n",
        "\n",
        "<img src=\"https://github.com/efolwacz/DataEng25/blob/main/week_1/IMG/np03.png?raw=1\">"
      ]
    },
    {
      "cell_type": "code",
      "execution_count": null,
      "metadata": {
        "id": "bOMzdNyJinBH"
      },
      "outputs": [],
      "source": []
    },
    {
      "cell_type": "markdown",
      "metadata": {
        "id": "HWArCijminBH"
      },
      "source": [
        "## Slice first column\n",
        "\n",
        "<img src=\"https://github.com/efolwacz/DataEng25/blob/main/week_1/IMG/np04.png?raw=1\">"
      ]
    },
    {
      "cell_type": "code",
      "execution_count": null,
      "metadata": {
        "id": "j0mYYsRZinBI"
      },
      "outputs": [],
      "source": []
    },
    {
      "cell_type": "markdown",
      "metadata": {
        "id": "tWU0OggsinBI"
      },
      "source": [
        "## Slice a diagonal\n",
        "\n",
        "<img src=\"https://github.com/efolwacz/DataEng25/blob/main/week_1/IMG/np05.png?raw=1\">"
      ]
    },
    {
      "cell_type": "code",
      "execution_count": null,
      "metadata": {
        "id": "_0Ub7Xc2inBI"
      },
      "outputs": [],
      "source": []
    },
    {
      "cell_type": "markdown",
      "metadata": {
        "id": "wa4hEOL7inBI"
      },
      "source": [
        "## Repeat the first element\n",
        "\n",
        "<img src=\"https://github.com/efolwacz/DataEng25/blob/main/week_1/IMG/np06.png?raw=1\">"
      ]
    },
    {
      "cell_type": "code",
      "execution_count": null,
      "metadata": {
        "id": "D0mUcQFminBI"
      },
      "outputs": [],
      "source": []
    },
    {
      "cell_type": "markdown",
      "metadata": {
        "id": "MNty6PKDinBJ"
      },
      "source": [
        "## Simple 2D slicing\n",
        "\n",
        "<img src=\"https://github.com/efolwacz/DataEng25/blob/main/week_1/IMG/np07.png?raw=1\">"
      ]
    },
    {
      "cell_type": "code",
      "execution_count": null,
      "metadata": {
        "id": "dwbFYv3qinBJ"
      },
      "outputs": [],
      "source": []
    },
    {
      "cell_type": "markdown",
      "metadata": {
        "id": "LkQWxt7zinBJ"
      },
      "source": [
        "## Slice a zigzag\n",
        "\n",
        "<img src=\"https://github.com/efolwacz/DataEng25/blob/main/week_1/IMG/np08.png?raw=1\">"
      ]
    },
    {
      "cell_type": "code",
      "execution_count": null,
      "metadata": {
        "id": "ndc3kqKEinBJ"
      },
      "outputs": [],
      "source": [
        "\n"
      ]
    },
    {
      "cell_type": "markdown",
      "metadata": {
        "id": "JP_H6eqFinBL"
      },
      "source": [
        "## Sparse slicing\n",
        "\n",
        "<img src=\"https://github.com/efolwacz/DataEng25/blob/main/week_1/IMG/np09.png?raw=1\">"
      ]
    },
    {
      "cell_type": "code",
      "execution_count": null,
      "metadata": {
        "id": "vg1Id2GrinBL"
      },
      "outputs": [],
      "source": []
    },
    {
      "cell_type": "markdown",
      "metadata": {
        "id": "gqJ43lfCinBL"
      },
      "source": [
        "## Transpose a 2D array\n",
        "\n",
        "<img src=\"https://github.com/efolwacz/DataEng25/blob/main/week_1/IMG/np10.png?raw=1\">"
      ]
    },
    {
      "cell_type": "code",
      "execution_count": null,
      "metadata": {
        "id": "M_2PAzsfinBL"
      },
      "outputs": [],
      "source": []
    },
    {
      "cell_type": "markdown",
      "metadata": {
        "id": "xRiHTAjrinBL"
      },
      "source": [
        "## Repeat the first column 4 times\n",
        "\n",
        "\n",
        "<img src=\"https://github.com/efolwacz/DataEng25/blob/main/week_1/IMG/np11.png?raw=1\">"
      ]
    },
    {
      "cell_type": "code",
      "execution_count": null,
      "metadata": {
        "id": "0Dn8AOOlinBL"
      },
      "outputs": [],
      "source": []
    },
    {
      "cell_type": "markdown",
      "metadata": {
        "id": "Qvlc8JuOinBM"
      },
      "source": [
        "## Reshape 1D array to 2D array\n",
        "\n",
        "<img src=\"https://github.com/efolwacz/DataEng25/blob/main/week_1/IMG/np12.png?raw=1\">"
      ]
    },
    {
      "cell_type": "code",
      "execution_count": null,
      "metadata": {
        "id": "9_J8z_czinBM",
        "outputId": "e7899fe0-1cc7-4263-9fc0-4ca30c860be6"
      },
      "outputs": [
        {
          "name": "stdout",
          "output_type": "stream",
          "text": [
            "[ 1  2  3  4  5  6  7  8  9 10 11 12]\n"
          ]
        }
      ],
      "source": [
        "x = np.asarray(range(1,13), np.int64)\n",
        "print(x)\n"
      ]
    },
    {
      "cell_type": "markdown",
      "metadata": {
        "id": "o_ItxnRBinBM"
      },
      "source": [
        "## Collapse an axis from a 3D array\n",
        "\n",
        "<img src=\"https://github.com/efolwacz/DataEng25/blob/main/week_1/IMG/np13.png?raw=1\">"
      ]
    },
    {
      "cell_type": "code",
      "execution_count": null,
      "metadata": {
        "id": "xUDfESB8inBN",
        "outputId": "e753050b-df13-43d3-b58d-edc4a20ad0e0"
      },
      "outputs": [
        {
          "name": "stdout",
          "output_type": "stream",
          "text": [
            "[[[ 1  2]\n",
            "  [ 3  4]]\n",
            "\n",
            " [[ 5  6]\n",
            "  [ 7  8]]\n",
            "\n",
            " [[ 9 10]\n",
            "  [11 12]]]\n"
          ]
        }
      ],
      "source": [
        "x = np.asarray(range(1,13), np.int8).reshape(3,2,2)\n",
        "print(x)"
      ]
    },
    {
      "cell_type": "code",
      "execution_count": null,
      "metadata": {
        "id": "3y97090tinBN"
      },
      "outputs": [],
      "source": []
    }
  ],
  "metadata": {
    "kernelspec": {
      "display_name": "Python 3",
      "language": "python",
      "name": "python3"
    },
    "language_info": {
      "codemirror_mode": {
        "name": "ipython",
        "version": 3
      },
      "file_extension": ".py",
      "mimetype": "text/x-python",
      "name": "python",
      "nbconvert_exporter": "python",
      "pygments_lexer": "ipython3",
      "version": "3.7.6"
    },
    "colab": {
      "provenance": []
    }
  },
  "nbformat": 4,
  "nbformat_minor": 0
}